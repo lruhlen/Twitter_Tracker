{
 "cells": [
  {
   "cell_type": "markdown",
   "metadata": {},
   "source": [
    "Following Sean Dolinar's tutorial here: goo.gl/OgSYAa.\n",
    "\n",
    "Also this: https://goo.gl/18BIwB\n",
    "\n"
   ]
  },
  {
   "cell_type": "code",
   "execution_count": 1,
   "metadata": {
    "collapsed": true
   },
   "outputs": [],
   "source": [
    "import requests\n",
    "import json\n",
    "import time\n",
    "from tweepy import Stream\n",
    "from tweepy import OAuthHandler\n",
    "from tweepy.streaming import StreamListener\n",
    "import os"
   ]
  },
  {
   "cell_type": "code",
   "execution_count": 2,
   "metadata": {
    "collapsed": true
   },
   "outputs": [],
   "source": [
    "def get_auth():\n",
    "    auth = OAuthHandler(os.getenv(\"TWITTER_CONSUMER_KEY\"),\n",
    "                        os.getenv(\"TWITTER_CONSUMER_SECRET\"))\n",
    "    auth.set_access_token(os.getenv(\"TWITTER_ACCESS_TOKEN\"),\n",
    "                          os.getenv(\"TWITTER_ACCESS_TOKEN_SECRET\"))\n",
    "    \n",
    "    return auth"
   ]
  },
  {
   "cell_type": "code",
   "execution_count": 26,
   "metadata": {
    "collapsed": true
   },
   "outputs": [],
   "source": [
    "class listener(StreamListener):\n",
    "    def __init__(self):\n",
    "        pass\n",
    "    \n",
    "    def on_data(self, data):\n",
    "        data = json.loads(data)\n",
    "        tweet_text = self._extract_tweet_text(data)\n",
    "        \n",
    "        return True\n",
    "    \n",
    "    def _extract_tweet_location(self, data):\n",
    "        \n",
    "        else:\n",
    "            return None\n",
    "    \n",
    "    def _extract_tweet_text(self, data):\n",
    "        if 'text' in data.keys():\n",
    "            return data['text'].encode('ascii', 'ignore')\n",
    "        else:\n",
    "            return None\n",
    "        \n",
    "    \n",
    "    def on_error(self, status):\n",
    "        print status"
   ]
  },
  {
   "cell_type": "code",
   "execution_count": null,
   "metadata": {
    "collapsed": false,
    "scrolled": false
   },
   "outputs": [],
   "source": [
    "auth = get_auth()\n",
    "\n",
    "twitter_stream = Stream(auth, listener())\n",
    "\n",
    "twitter_stream.filter(track=[\"beer\"], \n",
    "                      languages=[\"en\"])"
   ]
  },
  {
   "cell_type": "code",
   "execution_count": null,
   "metadata": {
    "collapsed": true
   },
   "outputs": [],
   "source": []
  }
 ],
 "metadata": {
  "kernelspec": {
   "display_name": "Python 2",
   "language": "python",
   "name": "python2"
  },
  "language_info": {
   "codemirror_mode": {
    "name": "ipython",
    "version": 2
   },
   "file_extension": ".py",
   "mimetype": "text/x-python",
   "name": "python",
   "nbconvert_exporter": "python",
   "pygments_lexer": "ipython2",
   "version": "2.7.11"
  }
 },
 "nbformat": 4,
 "nbformat_minor": 0
}
